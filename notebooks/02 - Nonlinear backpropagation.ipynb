{
 "cells": [
  {
   "cell_type": "code",
   "execution_count": 1,
   "metadata": {},
   "outputs": [],
   "source": [
    "import numpy as np\n",
    "import numpy.linalg as la\n",
    "import matplotlib.pyplot as plt"
   ]
  },
  {
   "cell_type": "code",
   "execution_count": 2,
   "metadata": {},
   "outputs": [],
   "source": [
    "class Neuron():\n",
    "    def __init__(self, ninputs):\n",
    "        self._weights = np.random.randn(ninputs) * 0.01\n",
    "        self._bias = np.random.randn() * 0.01\n",
    "    \n",
    "    def predict(self, X):\n",
    "        x = np.atleast_2d(X)\n",
    "        v = x @ self._weights + self._bias\n",
    "        return self.activate(v)\n",
    "    \n",
    "    def error(self, X, y):\n",
    "        yp = self.predict(X)\n",
    "        e = 0.5 * (y - yp) ** 2\n",
    "        return e\n",
    "    \n",
    "    def delta(self, X, y):\n",
    "        yp = self.predict(X)\n",
    "        return (y - yp)\n",
    "    \n",
    "    def fit(self, X, y, lr=0.01):\n",
    "        yp = self.predict(X)\n",
    "        e = y - yp\n",
    "        self._weights += lr * X * e * self.derivative(yp)\n",
    "        self._bias += lr * e * self.derivative(yp)\n",
    "    \n",
    "    def activate(self, x):\n",
    "        return 1.0 / (1.0 + np.exp(-x))\n",
    "    \n",
    "    def derivative(self, x):\n",
    "        return self.activate(x) * (1 - self.activate(x))"
   ]
  },
  {
   "cell_type": "code",
   "execution_count": 3,
   "metadata": {},
   "outputs": [],
   "source": [
    "X = np.random.randn(900).reshape((-1, 3))\n",
    "y = X[:,0] * 2 + X[:,1] * 0.5 + X[:, 2] * 1 + 4.0 + np.random.randn(300) * 0.05"
   ]
  },
  {
   "cell_type": "code",
   "execution_count": 4,
   "metadata": {},
   "outputs": [],
   "source": [
    "n = Neuron(3)"
   ]
  },
  {
   "cell_type": "code",
   "execution_count": 5,
   "metadata": {},
   "outputs": [
    {
     "data": {
      "text/plain": [
       "8.360018786931514"
      ]
     },
     "execution_count": 5,
     "metadata": {},
     "output_type": "execute_result"
    }
   ],
   "source": [
    "np.mean(n.error(X, y))"
   ]
  },
  {
   "cell_type": "code",
   "execution_count": 6,
   "metadata": {},
   "outputs": [],
   "source": [
    "n_epochs = 1000\n",
    "epochs = range(n_epochs)\n",
    "errors = []\n",
    "biases = [n._bias]\n",
    "w0 = [n._weights[0]]\n",
    "w1 = [n._weights[1]]\n",
    "w2 = [n._weights[2]]\n",
    "\n",
    "for epoch in epochs:\n",
    "    for Xi, yi in zip(X, y):\n",
    "        n.fit(Xi, yi, lr=0.001)\n",
    "\n",
    "    errors.append(np.mean(n.error(X, y)))\n",
    "    biases.append(n._bias)\n",
    "    w0.append(n._weights[0])\n",
    "    w1.append(n._weights[1])\n",
    "    w2.append(n._weights[2])"
   ]
  },
  {
   "cell_type": "code",
   "execution_count": 7,
   "metadata": {},
   "outputs": [
    {
     "data": {
      "text/plain": [
       "[<matplotlib.lines.Line2D at 0x1196e3be0>]"
      ]
     },
     "execution_count": 7,
     "metadata": {},
     "output_type": "execute_result"
    },
    {
     "data": {
      "image/png": "[encoded data removed]",
      "text/plain": [
       "<Figure size 432x288 with 1 Axes>"
      ]
     },
     "metadata": {
      "needs_background": "light"
     },
     "output_type": "display_data"
    }
   ],
   "source": [
    "plt.plot(errors)"
   ]
  },
  {
   "cell_type": "code",
   "execution_count": 8,
   "metadata": {},
   "outputs": [
    {
     "data": {
      "text/plain": [
       "6.68928709084149"
      ]
     },
     "execution_count": 8,
     "metadata": {},
     "output_type": "execute_result"
    }
   ],
   "source": [
    "np.mean(n.error(X, y))"
   ]
  },
  {
   "cell_type": "code",
   "execution_count": 9,
   "metadata": {},
   "outputs": [
    {
     "data": {
      "text/plain": [
       "Text(0, 0.5, 'Predicted values')"
      ]
     },
     "execution_count": 9,
     "metadata": {},
     "output_type": "execute_result"
    },
    {
     "data": {
      "image/png": "[encoded data removed]",
      "text/plain": [
       "<Figure size 432x288 with 1 Axes>"
      ]
     },
     "metadata": {
      "needs_background": "light"
     },
     "output_type": "display_data"
    }
   ],
   "source": [
    "plt.plot(y, n.predict(X), '.')\n",
    "plt.plot(y, y, alpha=0.3)\n",
    "plt.xlabel('True values')\n",
    "plt.ylabel('Predicted values')"
   ]
  },
  {
   "cell_type": "code",
   "execution_count": 10,
   "metadata": {},
   "outputs": [
    {
     "data": {
      "text/plain": [
       "array([107.78805125,   6.56252094,  30.90249939])"
      ]
     },
     "execution_count": 10,
     "metadata": {},
     "output_type": "execute_result"
    }
   ],
   "source": [
    "n._weights"
   ]
  },
  {
   "cell_type": "code",
   "execution_count": 11,
   "metadata": {},
   "outputs": [
    {
     "data": {
      "text/plain": [
       "array([180.43502101])"
      ]
     },
     "execution_count": 11,
     "metadata": {},
     "output_type": "execute_result"
    }
   ],
   "source": [
    "n._bias"
   ]
  },
  {
   "cell_type": "markdown",
   "metadata": {},
   "source": [
    "All I can come up with right now is that I need some kind of linear activation function at the end. To do that I will need a multilayer perceptron."
   ]
  },
  {
   "cell_type": "code",
   "execution_count": null,
   "metadata": {},
   "outputs": [],
   "source": []
  }
 ],
 "metadata": {
  "kernelspec": {
   "display_name": "Python [conda env:backprop]",
   "language": "python",
   "name": "conda-env-backprop-py"
  },
  "language_info": {
   "codemirror_mode": {
    "name": "ipython",
    "version": 3
   },
   "file_extension": ".py",
   "mimetype": "text/x-python",
   "name": "python",
   "nbconvert_exporter": "python",
   "pygments_lexer": "ipython3",
   "version": "3.6.7"
  }
 },
 "nbformat": 4,
 "nbformat_minor": 2
}
