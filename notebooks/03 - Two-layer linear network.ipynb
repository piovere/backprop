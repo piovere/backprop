{
 "cells": [
  {
   "cell_type": "code",
   "execution_count": 7,
   "metadata": {},
   "outputs": [],
   "source": [
    "import numpy as np\n",
    "import matplotlib.pyplot as plt"
   ]
  },
  {
   "cell_type": "code",
   "execution_count": 2,
   "metadata": {},
   "outputs": [],
   "source": [
    "class Neuron():\n",
    "    def __init__(self, ninputs):\n",
    "        self._weights = np.random.randn(ninputs)\n",
    "        self._bias = np.random.randn()\n",
    "    \n",
    "    def predict(self, x):\n",
    "        return self._weights.dot(x) + self._bias"
   ]
  },
  {
   "cell_type": "markdown",
   "metadata": {},
   "source": [
    "```\n",
    "import random\n",
    "for _ in range(10):\n",
    "    print(random.choice(range(1, 10)))\n",
    "```"
   ]
  },
  {
   "cell_type": "markdown",
   "metadata": {},
   "source": [
    "Coefficients were randomly generated to produce the following equation:\n",
    "$$ y = 7 x_1^2 + 9 x_1 x_2 + 7 x_1 x_3 + x_2^2 + 5 x_2 x_3 + 4 x_3^2 + x_1 + 6 x_2 + 8 x_3 + 1 $$"
   ]
  },
  {
   "cell_type": "code",
   "execution_count": 9,
   "metadata": {},
   "outputs": [],
   "source": [
    "# Make some training data\n",
    "X = np.random.random((300, 3))\n",
    "def fn(x1, x2, x3):\n",
    "    # Coefficients were randomly generated\n",
    "    # 7 * x1^2 + 9 x1 x2 +\n",
    "    a = x1 * x1 * 7\n",
    "    b = x1 * x2 * 9\n",
    "    c = x1 * x3 * 7\n",
    "    d = x2 * x2 * 1\n",
    "    e = x2 * x3 * 5\n",
    "    f = x3 * x3 * 4\n",
    "    g = x1 * 1\n",
    "    h = x2 * 6\n",
    "    i = x3 * 8\n",
    "    j = 1\n",
    "    return a + b + c + d + e + f + g + h + i + j + np.random.randn(300) * 0.05\n",
    "y = fn(X[:,0], X[:,1], X[:,2])"
   ]
  },
  {
   "cell_type": "code",
   "execution_count": 11,
   "metadata": {},
   "outputs": [
    {
     "data": {
      "text/plain": [
       "4"
      ]
     },
     "execution_count": 11,
     "metadata": {},
     "output_type": "execute_result"
    }
   ],
   "source": [
    "random.choice(range(1, 10))"
   ]
  },
  {
   "cell_type": "code",
   "execution_count": null,
   "metadata": {},
   "outputs": [],
   "source": []
  }
 ],
 "metadata": {
  "kernelspec": {
   "display_name": "Python [conda env:plasma]",
   "language": "python",
   "name": "conda-env-plasma-py"
  },
  "language_info": {
   "codemirror_mode": {
    "name": "ipython",
    "version": 3
   },
   "file_extension": ".py",
   "mimetype": "text/x-python",
   "name": "python",
   "nbconvert_exporter": "python",
   "pygments_lexer": "ipython3",
   "version": "3.6.8"
  }
 },
 "nbformat": 4,
 "nbformat_minor": 2
}
