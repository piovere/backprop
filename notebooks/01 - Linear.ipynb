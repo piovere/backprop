{
 "cells": [
  {
   "cell_type": "markdown",
   "metadata": {},
   "source": [
    "# Linear regression via backpropagation"
   ]
  },
  {
   "cell_type": "markdown",
   "metadata": {},
   "source": [
    "In linear regression we seek to figure out the correct coefficients $w$ to predict $y$ from the known values of $x$. Because it's a linear equation, this means solving \n",
    "$$ y = w x + b $$\n",
    "for the values of $w$ and $b$. Of course it's possible that multiple inputs are required to predict $y$, so instead of predicting it with a single value of $x$, we instead call it a vector, $\\vec{x}$, where the $j$th element is $x_j$ and the coefficient for that value is $w_j$. We can therefore update the equation to be \n",
    "$$y = \\sum_j w_j x_j + b = \\vec{w} \\cdot \\vec{x} + b. $$"
   ]
  },
  {
   "cell_type": "markdown",
   "metadata": {},
   "source": [
    "## Traditional solution"
   ]
  },
  {
   "cell_type": "markdown",
   "metadata": {},
   "source": [
    "Normally this equation is solved in one step. We take all of the $y$ values we know and all of the $\\vec{x}$ values we know and treat them as a matrix, $\\mathbf{X}$. In a perfect, no-noise world we can then invert $\\mathbf{X}$ (once a column of $1$ values has been added to account for the intercept term, $b$)."
   ]
  },
  {
   "cell_type": "markdown",
   "metadata": {},
   "source": [
    "$$ \\vec{y} = \\mathbf{X} \\vec{w} $$"
   ]
  },
  {
   "cell_type": "markdown",
   "metadata": {},
   "source": [
    "This is a traditional linear equation, and we can find $\\vec{w}$ by inverting $\\mathbf{X}$."
   ]
  },
  {
   "cell_type": "markdown",
   "metadata": {},
   "source": [
    "$$\\vec{w} = \\mathbf{X}^{-1} \\vec{y}$$"
   ]
  },
  {
   "cell_type": "markdown",
   "metadata": {},
   "source": [
    "This solution depends on the assumptions:\n",
    "- we have exactly as many equations as we have unknowns and\n",
    "- the inputs are linearly independent.\n",
    "\n",
    "Let's ignore the second assumption for now, and focus only on the first. In the real world, the presence of noise in the inputs ($\\mathbf{X}$) and output ($\\vec{y}$ means this equation isn't perfect. We can compensate for this by collecting a lot of values for $\\vec{x}$ and assuming that the noise is centered on the true values of $\\vec{x}$. This means we can use the *pseudoinverse* of $\\mathbf{X}$."
   ]
  },
  {
   "cell_type": "markdown",
   "metadata": {},
   "source": [
    "$$ \\vec{w} = (\\mathbf{X}^T \\mathbf{X})^{-1} \\mathbf{X}^T \\vec{y} $$"
   ]
  },
  {
   "cell_type": "code",
   "execution_count": 1,
   "metadata": {},
   "outputs": [],
   "source": [
    "import numpy as np\n",
    "import numpy.linalg as la\n",
    "import matplotlib.pyplot as plt"
   ]
  },
  {
   "cell_type": "code",
   "execution_count": 2,
   "metadata": {},
   "outputs": [],
   "source": [
    "X = np.random.random((30, 3))\n",
    "# Our true values of w are (2, 0.5, and 1)\n",
    "y = X[:,0] * 2 + X[:,1] * 0.5 + X[:, 2] * 1 + np.random.randn(30) * 0.05"
   ]
  },
  {
   "cell_type": "code",
   "execution_count": 3,
   "metadata": {},
   "outputs": [],
   "source": [
    "w = la.inv(X.T @ X) @ X.T @ y"
   ]
  },
  {
   "cell_type": "code",
   "execution_count": 4,
   "metadata": {},
   "outputs": [],
   "source": [
    "yp = X @ w"
   ]
  },
  {
   "cell_type": "code",
   "execution_count": 5,
   "metadata": {},
   "outputs": [
    {
     "data": {
      "text/plain": [
       "Text(0, 0.5, 'Predicted value')"
      ]
     },
     "execution_count": 5,
     "metadata": {},
     "output_type": "execute_result"
    },
    {
     "data": {
      "image/png": "[encoded data removed]",
      "text/plain": [
       "<Figure size 432x288 with 1 Axes>"
      ]
     },
     "metadata": {
      "needs_background": "light"
     },
     "output_type": "display_data"
    }
   ],
   "source": [
    "plt.plot(y, yp, '.')\n",
    "plt.plot(y, y, alpha=0.3)\n",
    "plt.xlabel('True value')\n",
    "plt.ylabel('Predicted value')"
   ]
  },
  {
   "cell_type": "code",
   "execution_count": 6,
   "metadata": {},
   "outputs": [
    {
     "data": {
      "text/plain": [
       "array([2.02300702, 0.47979013, 1.02702003])"
      ]
     },
     "execution_count": 6,
     "metadata": {},
     "output_type": "execute_result"
    }
   ],
   "source": [
    "w"
   ]
  },
  {
   "cell_type": "markdown",
   "metadata": {},
   "source": [
    "There is a little more math to show that this is, in fact, the solution that minimizes the **mean squared error**, (MSE), but for now, just trust me. Of course we are going to be interested in that value later, so knowing an equation for it later is going to be important."
   ]
  },
  {
   "cell_type": "markdown",
   "metadata": {},
   "source": [
    "$$ E = \\frac{1}{2} (\\vec{y} - \\mathbf{X} \\vec{w})^T (\\vec{y} - \\mathbf{X} \\vec{w}) $$"
   ]
  },
  {
   "cell_type": "markdown",
   "metadata": {},
   "source": [
    "## Gradient descent"
   ]
  },
  {
   "cell_type": "markdown",
   "metadata": {},
   "source": [
    "Instead of collecting all the data and looking at it all at once (which requires inverting what could be a really large matrix), we could also try something different. Now that we have an equation for error as a function of $\\vec{w}$ we can imagine looking at a graph of Error vs. $\\vec{w}$. "
   ]
  },
  {
   "cell_type": "code",
   "execution_count": 7,
   "metadata": {},
   "outputs": [],
   "source": [
    "import matplotlib.pyplot as plt"
   ]
  },
  {
   "cell_type": "code",
   "execution_count": 8,
   "metadata": {},
   "outputs": [],
   "source": [
    "def sse(y, yp):\n",
    "    e = y - yp\n",
    "    return 0.5 * np.sum(e ** 2)"
   ]
  },
  {
   "cell_type": "markdown",
   "metadata": {},
   "source": [
    "This is going to get a little squirrely in more than one dimension, so let's dial back to that for now. I promise we will add more later."
   ]
  },
  {
   "cell_type": "code",
   "execution_count": 9,
   "metadata": {},
   "outputs": [],
   "source": [
    "X = np.random.random((30, 1))\n",
    "noise = np.random.randn(30)\n",
    "y = 2.5 * X[:,0] + np.random.randn(30) * 0.05"
   ]
  },
  {
   "cell_type": "code",
   "execution_count": 10,
   "metadata": {},
   "outputs": [],
   "source": [
    "w = np.linspace(0, 5).reshape((-1, 1))"
   ]
  },
  {
   "cell_type": "code",
   "execution_count": 11,
   "metadata": {},
   "outputs": [],
   "source": [
    "yp = w @ X.T"
   ]
  },
  {
   "cell_type": "code",
   "execution_count": 12,
   "metadata": {},
   "outputs": [
    {
     "data": {
      "text/plain": [
       "(50, 30)"
      ]
     },
     "execution_count": 12,
     "metadata": {},
     "output_type": "execute_result"
    }
   ],
   "source": [
    "yp.shape"
   ]
  },
  {
   "cell_type": "code",
   "execution_count": 13,
   "metadata": {},
   "outputs": [],
   "source": [
    "e = np.array([sse(y, ypp) for ypp in yp])"
   ]
  },
  {
   "cell_type": "markdown",
   "metadata": {},
   "source": [
    "Let's say we made an initial guess at $w=1$."
   ]
  },
  {
   "cell_type": "code",
   "execution_count": 14,
   "metadata": {},
   "outputs": [
    {
     "data": {
      "text/plain": [
       "Text(1.0, 12.052199132080174, '')"
      ]
     },
     "execution_count": 14,
     "metadata": {},
     "output_type": "execute_result"
    },
    {
     "data": {
      "image/png": "[encoded data removed]",
      "text/plain": [
       "<Figure size 432x288 with 1 Axes>"
      ]
     },
     "metadata": {
      "needs_background": "light"
     },
     "output_type": "display_data"
    }
   ],
   "source": [
    "plt.plot(w, e)\n",
    "plt.axvline(x=2.5, color='r', alpha=0.3)\n",
    "plt.ylabel(\"Error\")\n",
    "plt.xlabel(r\"$w$\")\n",
    "plt.plot(1.0, sse(y, X.ravel()), \"gv\")\n",
    "plt.annotate('', xy=(1.5, 5), xycoords='data',\n",
    "             textcoords='data', arrowprops=dict(facecolor='black'),\n",
    "             xytext=(1.0, sse(y, X.ravel())))"
   ]
  },
  {
   "cell_type": "markdown",
   "metadata": {},
   "source": [
    "From the slope of the error function we can see that if we just bump $w$ up a little, the error will go down. Of course, if we just move it a little bit we won't get to the perfect minimum. If we move it too far, though, we'll skip past the minimum. The distance we move in the direction of that arrow is called the learning rate ($\\eta$) and is the subject of a lot of literature. For now, we'll just pick a number and make sure it's not too big. So every time we train we will figure out the error to see where we are on the curve. Then we calculate the slope of the error where we are and move a little bit down the slope."
   ]
  },
  {
   "cell_type": "markdown",
   "metadata": {},
   "source": [
    "## Backpropagation"
   ]
  },
  {
   "cell_type": "markdown",
   "metadata": {},
   "source": [
    "But wait! All we know is the error at a single point. How can we calculate the slope (derivative) of the error with respect to $w$?"
   ]
  },
  {
   "cell_type": "markdown",
   "metadata": {},
   "source": [
    "$$ E = \\frac{1}{2} (\\vec{y} - \\mathbf{X} \\vec{w})^T (\\vec{y} - \\mathbf{X} \\vec{w}) $$"
   ]
  },
  {
   "cell_type": "markdown",
   "metadata": {},
   "source": [
    "Since we're just dealing with one point here we'll simplify this."
   ]
  },
  {
   "cell_type": "markdown",
   "metadata": {},
   "source": [
    "$$ E = \\frac{1}{2} (y - y^\\prime)^2 = \\frac{1}{2} (y - \\sum_i w_i x_i - b)^2$$"
   ]
  },
  {
   "cell_type": "markdown",
   "metadata": {},
   "source": [
    "Now take the derivative of $E$ with respect to $w$"
   ]
  },
  {
   "cell_type": "markdown",
   "metadata": {},
   "source": [
    "$$ \\frac{dE}{dw_i} = -x_i (y - \\sum_i w_i x_i - b) $$"
   ]
  },
  {
   "cell_type": "markdown",
   "metadata": {},
   "source": [
    "and the derivative with respect to the bias is"
   ]
  },
  {
   "cell_type": "markdown",
   "metadata": {},
   "source": [
    "$$ \\frac{dE}{db} = -(y - \\sum_i w_i x_i - b) $$"
   ]
  },
  {
   "cell_type": "markdown",
   "metadata": {},
   "source": [
    "Okay, cool! We know all of these things! If this value is positive, it means that increasing $w$ will also increase our error. If it's negative, it means that increasing $w$ will lower our error."
   ]
  },
  {
   "cell_type": "markdown",
   "metadata": {},
   "source": [
    "## Training"
   ]
  },
  {
   "cell_type": "markdown",
   "metadata": {},
   "source": [
    "So here is our training process:\n",
    "1. Make an initial guess for the weights, \n",
    "2. calculate an error for that guess, \n",
    "3. add $\\eta (y - wx) x$ to each weight, and\n",
    "4. repeat 2-3 until convergence."
   ]
  },
  {
   "cell_type": "code",
   "execution_count": 15,
   "metadata": {},
   "outputs": [],
   "source": [
    "class Neuron():\n",
    "    def __init__(self, ninputs):\n",
    "        self._weights = np.random.randn(ninputs) * 0.01\n",
    "        self._bias = np.random.randn() * 0.01\n",
    "    \n",
    "    def predict(self, X):\n",
    "        x = np.atleast_2d(X)\n",
    "        return x @ self._weights + self._bias\n",
    "    \n",
    "    def error(self, X, y):\n",
    "        yp = self.predict(X)\n",
    "        e = 0.5 * (y - yp) ** 2\n",
    "        return e\n",
    "    \n",
    "    def delta(self, X, y, w):\n",
    "        yp = self.predict(X)\n",
    "        return (y - yp)\n",
    "    \n",
    "    def fit(self, X, y, lr=0.01):\n",
    "        yp = self.predict(X)\n",
    "        e = y - yp\n",
    "        self._weights += lr * X * e\n",
    "        self._bias += lr * e"
   ]
  },
  {
   "cell_type": "code",
   "execution_count": 16,
   "metadata": {},
   "outputs": [],
   "source": [
    "n = Neuron(3)"
   ]
  },
  {
   "cell_type": "code",
   "execution_count": 17,
   "metadata": {},
   "outputs": [],
   "source": [
    "X = np.random.random((300, 3))\n",
    "y = X[:,0] * 2 + X[:,1] * 0.5 + X[:, 2] * 1 + 4.0 + np.random.randn(300) * 0.05"
   ]
  },
  {
   "cell_type": "markdown",
   "metadata": {},
   "source": [
    "The correct weights are $2.0$, $0.5$, and $1.0$. The correct bias is $4.0$."
   ]
  },
  {
   "cell_type": "code",
   "execution_count": 18,
   "metadata": {},
   "outputs": [
    {
     "data": {
      "text/plain": [
       "array([-0.00967352, -0.00035365,  0.0013613 ])"
      ]
     },
     "execution_count": 18,
     "metadata": {},
     "output_type": "execute_result"
    }
   ],
   "source": [
    "n._weights"
   ]
  },
  {
   "cell_type": "code",
   "execution_count": 19,
   "metadata": {},
   "outputs": [
    {
     "data": {
      "text/plain": [
       "0.01030182807534045"
      ]
     },
     "execution_count": 19,
     "metadata": {},
     "output_type": "execute_result"
    }
   ],
   "source": [
    "n._bias"
   ]
  },
  {
   "cell_type": "code",
   "execution_count": 20,
   "metadata": {},
   "outputs": [
    {
     "data": {
      "text/plain": [
       "17.090901513156783"
      ]
     },
     "execution_count": 20,
     "metadata": {},
     "output_type": "execute_result"
    }
   ],
   "source": [
    "np.mean(n.error(X, y))"
   ]
  },
  {
   "cell_type": "code",
   "execution_count": 21,
   "metadata": {},
   "outputs": [],
   "source": [
    "n_epochs = 100\n",
    "epochs = range(n_epochs)\n",
    "errors = []\n",
    "biases = [n._bias]\n",
    "w0 = [n._weights[0]]\n",
    "w1 = [n._weights[1]]\n",
    "w2 = [n._weights[2]]\n",
    "\n",
    "for epoch in epochs:\n",
    "    for Xi, yi in zip(X, y):\n",
    "        n.fit(Xi, yi)\n",
    "\n",
    "    errors.append(np.mean(n.error(X, y)))\n",
    "    biases.append(n._bias)\n",
    "    w0.append(n._weights[0])\n",
    "    w1.append(n._weights[1])\n",
    "    w2.append(n._weights[2])"
   ]
  },
  {
   "cell_type": "code",
   "execution_count": 22,
   "metadata": {},
   "outputs": [
    {
     "data": {
      "text/plain": [
       "array([1.99343735, 0.50134331, 1.00737719])"
      ]
     },
     "execution_count": 22,
     "metadata": {},
     "output_type": "execute_result"
    }
   ],
   "source": [
    "n._weights"
   ]
  },
  {
   "cell_type": "code",
   "execution_count": 23,
   "metadata": {},
   "outputs": [
    {
     "data": {
      "text/plain": [
       "<matplotlib.lines.Line2D at 0x11299df60>"
      ]
     },
     "execution_count": 23,
     "metadata": {},
     "output_type": "execute_result"
    },
    {
     "data": {
      "image/png": "[encoded data removed]",
      "text/plain": [
       "<Figure size 432x288 with 1 Axes>"
      ]
     },
     "metadata": {
      "needs_background": "light"
     },
     "output_type": "display_data"
    }
   ],
   "source": [
    "plt.plot(epochs, errors)\n",
    "plt.xlabel('Training epochs')\n",
    "plt.ylabel('Error')\n",
    "plt.axhline(y=errors[-1], color='r', alpha=0.3)"
   ]
  },
  {
   "cell_type": "code",
   "execution_count": 24,
   "metadata": {},
   "outputs": [
    {
     "data": {
      "text/plain": [
       "array([1.99343735, 0.50134331, 1.00737719])"
      ]
     },
     "execution_count": 24,
     "metadata": {},
     "output_type": "execute_result"
    }
   ],
   "source": [
    "n._weights"
   ]
  },
  {
   "cell_type": "code",
   "execution_count": 25,
   "metadata": {},
   "outputs": [
    {
     "data": {
      "text/plain": [
       "array([4.00085343])"
      ]
     },
     "execution_count": 25,
     "metadata": {},
     "output_type": "execute_result"
    }
   ],
   "source": [
    "n._bias"
   ]
  },
  {
   "cell_type": "code",
   "execution_count": 26,
   "metadata": {},
   "outputs": [
    {
     "data": {
      "text/plain": [
       "<matplotlib.legend.Legend at 0x112adacc0>"
      ]
     },
     "execution_count": 26,
     "metadata": {},
     "output_type": "execute_result"
    },
    {
     "data": {
      "image/png": "[encoded data removed]",
      "text/plain": [
       "<Figure size 432x288 with 1 Axes>"
      ]
     },
     "metadata": {
      "needs_background": "light"
     },
     "output_type": "display_data"
    }
   ],
   "source": [
    "plt.plot(y, n.predict(X), '.')\n",
    "plt.plot(y, y, label='Perfect prediction', alpha=0.3)\n",
    "plt.xlabel('True value')\n",
    "plt.ylabel('Predicted value')\n",
    "plt.legend(loc='best')"
   ]
  },
  {
   "cell_type": "code",
   "execution_count": 27,
   "metadata": {},
   "outputs": [
    {
     "data": {
      "text/plain": [
       "[<matplotlib.lines.Line2D at 0x112c8ac50>]"
      ]
     },
     "execution_count": 27,
     "metadata": {},
     "output_type": "execute_result"
    },
    {
     "data": {
      "image/png": "[encoded data removed]",
      "text/plain": [
       "<Figure size 432x288 with 4 Axes>"
      ]
     },
     "metadata": {
      "needs_background": "light"
     },
     "output_type": "display_data"
    }
   ],
   "source": [
    "f = plt.figure()\n",
    "\n",
    "plt.subplot(221)\n",
    "plt.plot(biases)\n",
    "\n",
    "plt.subplot(222)\n",
    "plt.plot(w0)\n",
    "\n",
    "plt.subplot(223)\n",
    "plt.plot(w1)\n",
    "\n",
    "plt.subplot(224)\n",
    "plt.plot(w2)"
   ]
  },
  {
   "cell_type": "code",
   "execution_count": 28,
   "metadata": {},
   "outputs": [
    {
     "data": {
      "text/plain": [
       "[<matplotlib.lines.Line2D at 0x112d97358>]"
      ]
     },
     "execution_count": 28,
     "metadata": {},
     "output_type": "execute_result"
    },
    {
     "data": {
      "image/png": "[encoded data removed]",
      "text/plain": [
       "<Figure size 432x288 with 1 Axes>"
      ]
     },
     "metadata": {
      "needs_background": "light"
     },
     "output_type": "display_data"
    }
   ],
   "source": [
    "plt.plot(errors)"
   ]
  },
  {
   "cell_type": "code",
   "execution_count": 29,
   "metadata": {},
   "outputs": [
    {
     "data": {
      "text/plain": [
       "array([1.99343735, 0.50134331, 1.00737719])"
      ]
     },
     "execution_count": 29,
     "metadata": {},
     "output_type": "execute_result"
    }
   ],
   "source": [
    "n._weights"
   ]
  },
  {
   "cell_type": "code",
   "execution_count": 30,
   "metadata": {},
   "outputs": [
    {
     "data": {
      "text/plain": [
       "array([4.00085343])"
      ]
     },
     "execution_count": 30,
     "metadata": {},
     "output_type": "execute_result"
    }
   ],
   "source": [
    "n._bias"
   ]
  },
  {
   "cell_type": "markdown",
   "metadata": {},
   "source": [
    "Pretty close! Now let's look at what happens with a lower learning rate"
   ]
  },
  {
   "cell_type": "code",
   "execution_count": 31,
   "metadata": {},
   "outputs": [],
   "source": [
    "n2 = Neuron(3)"
   ]
  },
  {
   "cell_type": "code",
   "execution_count": 32,
   "metadata": {},
   "outputs": [],
   "source": [
    "n_epochs = 5000\n",
    "epochs = range(n_epochs)\n",
    "errors = []\n",
    "biases = [n2._bias]\n",
    "w0 = [n2._weights[0]]\n",
    "w1 = [n2._weights[1]]\n",
    "w2 = [n2._weights[2]]\n",
    "\n",
    "for epoch in epochs:\n",
    "    for Xi, yi in zip(X, y):\n",
    "        n2.fit(Xi, yi, lr=0.0001)\n",
    "\n",
    "    errors.append(np.mean(n2.error(X, y)))\n",
    "    biases.append(n2._bias)\n",
    "    w0.append(n2._weights[0])\n",
    "    w1.append(n2._weights[1])\n",
    "    w2.append(n2._weights[2])"
   ]
  },
  {
   "cell_type": "code",
   "execution_count": 33,
   "metadata": {},
   "outputs": [
    {
     "data": {
      "text/plain": [
       "[<matplotlib.lines.Line2D at 0x112f532b0>]"
      ]
     },
     "execution_count": 33,
     "metadata": {},
     "output_type": "execute_result"
    },
    {
     "data": {
      "image/png": "[encoded data removed]",
      "text/plain": [
       "<Figure size 432x288 with 4 Axes>"
      ]
     },
     "metadata": {
      "needs_background": "light"
     },
     "output_type": "display_data"
    }
   ],
   "source": [
    "f = plt.figure()\n",
    "\n",
    "plt.subplot(221)\n",
    "plt.plot(biases)\n",
    "\n",
    "plt.subplot(222)\n",
    "plt.plot(w0)\n",
    "\n",
    "plt.subplot(223)\n",
    "plt.plot(w1)\n",
    "\n",
    "plt.subplot(224)\n",
    "plt.plot(w2)"
   ]
  },
  {
   "cell_type": "code",
   "execution_count": 34,
   "metadata": {},
   "outputs": [
    {
     "data": {
      "text/plain": [
       "array([1.99331039, 0.50071975, 1.00729297])"
      ]
     },
     "execution_count": 34,
     "metadata": {},
     "output_type": "execute_result"
    }
   ],
   "source": [
    "n2._weights"
   ]
  },
  {
   "cell_type": "code",
   "execution_count": 35,
   "metadata": {},
   "outputs": [
    {
     "data": {
      "text/plain": [
       "array([3.99920922])"
      ]
     },
     "execution_count": 35,
     "metadata": {},
     "output_type": "execute_result"
    }
   ],
   "source": [
    "n2._bias"
   ]
  },
  {
   "cell_type": "code",
   "execution_count": 36,
   "metadata": {},
   "outputs": [
    {
     "data": {
      "text/plain": [
       "[<matplotlib.lines.Line2D at 0x112feadd8>]"
      ]
     },
     "execution_count": 36,
     "metadata": {},
     "output_type": "execute_result"
    },
    {
     "data": {
      "image/png": "[encoded data removed]",
      "text/plain": [
       "<Figure size 432x288 with 1 Axes>"
      ]
     },
     "metadata": {
      "needs_background": "light"
     },
     "output_type": "display_data"
    }
   ],
   "source": [
    "plt.plot(errors)"
   ]
  },
  {
   "cell_type": "markdown",
   "metadata": {},
   "source": [
    "So with a very low learning rate, the values did not coverge completely even after 1000 loops through the training data. 5000 did the trick though! Now let's look at what happens when the learning rate is very high"
   ]
  },
  {
   "cell_type": "code",
   "execution_count": 37,
   "metadata": {},
   "outputs": [],
   "source": [
    "n3 = Neuron(3)\n",
    "\n",
    "n_epochs = 10\n",
    "epochs = range(n_epochs)\n",
    "errors = []\n",
    "biases = [n3._bias]\n",
    "w0 = [n3._weights[0]]\n",
    "w1 = [n3._weights[1]]\n",
    "w2 = [n3._weights[2]]\n",
    "\n",
    "for epoch in epochs:\n",
    "    for Xi, yi in zip(X, y):\n",
    "        n3.fit(Xi, yi, lr=1.0)\n",
    "\n",
    "    errors.append(np.mean(n3.error(X, y)))\n",
    "    biases.append(n3._bias)\n",
    "    w0.append(n3._weights[0])\n",
    "    w1.append(n3._weights[1])\n",
    "    w2.append(n3._weights[2])"
   ]
  },
  {
   "cell_type": "code",
   "execution_count": 38,
   "metadata": {},
   "outputs": [
    {
     "data": {
      "text/plain": [
       "[<matplotlib.lines.Line2D at 0x112deffd0>]"
      ]
     },
     "execution_count": 38,
     "metadata": {},
     "output_type": "execute_result"
    },
    {
     "data": {
      "image/png": "[encoded data removed]",
      "text/plain": [
       "<Figure size 432x288 with 4 Axes>"
      ]
     },
     "metadata": {
      "needs_background": "light"
     },
     "output_type": "display_data"
    }
   ],
   "source": [
    "f = plt.figure()\n",
    "\n",
    "plt.subplot(221)\n",
    "plt.plot(biases)\n",
    "\n",
    "plt.subplot(222)\n",
    "plt.plot(w0)\n",
    "\n",
    "plt.subplot(223)\n",
    "plt.plot(w1)\n",
    "\n",
    "plt.subplot(224)\n",
    "plt.plot(w2)"
   ]
  },
  {
   "cell_type": "code",
   "execution_count": 39,
   "metadata": {},
   "outputs": [
    {
     "data": {
      "text/plain": [
       "[<matplotlib.lines.Line2D at 0x113213208>]"
      ]
     },
     "execution_count": 39,
     "metadata": {},
     "output_type": "execute_result"
    },
    {
     "data": {
      "image/png": "[encoded data removed]",
      "text/plain": [
       "<Figure size 432x288 with 1 Axes>"
      ]
     },
     "metadata": {
      "needs_background": "light"
     },
     "output_type": "display_data"
    }
   ],
   "source": [
    "plt.plot(errors)"
   ]
  },
  {
   "cell_type": "code",
   "execution_count": 40,
   "metadata": {},
   "outputs": [
    {
     "data": {
      "text/plain": [
       "array([-4.97230231e+08, -5.32007240e+08,  2.48722213e+08])"
      ]
     },
     "execution_count": 40,
     "metadata": {},
     "output_type": "execute_result"
    }
   ],
   "source": [
    "n3._weights"
   ]
  },
  {
   "cell_type": "code",
   "execution_count": 41,
   "metadata": {},
   "outputs": [
    {
     "data": {
      "text/plain": [
       "array([38253888.2728644])"
      ]
     },
     "execution_count": 41,
     "metadata": {},
     "output_type": "execute_result"
    }
   ],
   "source": [
    "n3._bias"
   ]
  },
  {
   "cell_type": "markdown",
   "metadata": {},
   "source": [
    "With a learning rate this high, the updates jump over the true values. The weights oscillate in an unstable fashion and do not converge."
   ]
  },
  {
   "cell_type": "markdown",
   "metadata": {},
   "source": [
    "# Comparison"
   ]
  },
  {
   "cell_type": "code",
   "execution_count": 42,
   "metadata": {},
   "outputs": [],
   "source": [
    "Xp = np.hstack([\n",
    "    X,\n",
    "    np.ones_like(X[:,0]).reshape((-1, 1))\n",
    "])"
   ]
  },
  {
   "cell_type": "code",
   "execution_count": 43,
   "metadata": {},
   "outputs": [
    {
     "data": {
      "text/plain": [
       "(300, 4)"
      ]
     },
     "execution_count": 43,
     "metadata": {},
     "output_type": "execute_result"
    }
   ],
   "source": [
    "Xp.shape"
   ]
  },
  {
   "cell_type": "code",
   "execution_count": 44,
   "metadata": {},
   "outputs": [],
   "source": [
    "weights = la.inv(Xp.T @ Xp) @ Xp.T @ y"
   ]
  },
  {
   "cell_type": "code",
   "execution_count": 45,
   "metadata": {},
   "outputs": [
    {
     "data": {
      "text/plain": [
       "array([1.99273735, 0.5001575 , 1.00684484, 4.00007541])"
      ]
     },
     "execution_count": 45,
     "metadata": {},
     "output_type": "execute_result"
    }
   ],
   "source": [
    "weights"
   ]
  },
  {
   "cell_type": "code",
   "execution_count": 46,
   "metadata": {},
   "outputs": [
    {
     "data": {
      "text/plain": [
       "array([1.99343735, 0.50134331, 1.00737719])"
      ]
     },
     "execution_count": 46,
     "metadata": {},
     "output_type": "execute_result"
    }
   ],
   "source": [
    "n._weights"
   ]
  },
  {
   "cell_type": "code",
   "execution_count": 47,
   "metadata": {},
   "outputs": [
    {
     "data": {
      "text/plain": [
       "array([4.00085343])"
      ]
     },
     "execution_count": 47,
     "metadata": {},
     "output_type": "execute_result"
    }
   ],
   "source": [
    "n._bias"
   ]
  },
  {
   "cell_type": "markdown",
   "metadata": {},
   "source": [
    "# Conclusions"
   ]
  },
  {
   "cell_type": "markdown",
   "metadata": {},
   "source": [
    "We've walked through two different methods to find the coefficients of a linear equation given data, even when the outputs contained noise. This technique is the basic version of the one used to train more complicate neural networks. The next step will be to try it with a more complicated \"activation function\" than the linear output we have used here."
   ]
  },
  {
   "cell_type": "code",
   "execution_count": null,
   "metadata": {},
   "outputs": [],
   "source": []
  }
 ],
 "metadata": {
  "kernelspec": {
   "display_name": "Python [conda env:backprop]",
   "language": "python",
   "name": "conda-env-backprop-py"
  },
  "language_info": {
   "codemirror_mode": {
    "name": "ipython",
    "version": 3
   },
   "file_extension": ".py",
   "mimetype": "text/x-python",
   "name": "python",
   "nbconvert_exporter": "python",
   "pygments_lexer": "ipython3",
   "version": "3.6.7"
  }
 },
 "nbformat": 4,
 "nbformat_minor": 2
}
