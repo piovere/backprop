{
 "cells": [
  {
   "cell_type": "code",
   "execution_count": 123,
   "metadata": {},
   "outputs": [],
   "source": [
    "import numpy as np"
   ]
  },
  {
   "cell_type": "code",
   "execution_count": 124,
   "metadata": {},
   "outputs": [],
   "source": [
    "class Neuron():\n",
    "    def __init__(self, ninputs):\n",
    "        self._weights = np.random.randn(ninputs) * 0.01\n",
    "        self._bias = np.random.randn() * 0.01\n",
    "    \n",
    "    def predict(self, X):\n",
    "        x = np.atleast_2d(X)\n",
    "        return x @ self._weights + self._bias\n",
    "    \n",
    "    def error(self, X, y):\n",
    "        yp = self.predict(X)\n",
    "        e = 0.5 * (y - yp) ** 2\n",
    "        return e\n",
    "    \n",
    "    def delta(self, X, y, w):\n",
    "        yp = self.predict(X)\n",
    "        return (y - yp)\n",
    "    \n",
    "    def fit(self, X, y, lr=0.01):\n",
    "        yp = self.predict(X)\n",
    "        e = y - yp\n",
    "        self._weights += lr * X * e\n",
    "        self._bias += lr * e"
   ]
  },
  {
   "cell_type": "code",
   "execution_count": 125,
   "metadata": {},
   "outputs": [],
   "source": [
    "class Layer():\n",
    "    def __init__(self, ninputs, noutputs):\n",
    "        self._neurons = [Neuron(ninputs) for _ in range(noutputs)]\n",
    "    \n",
    "    def predict(self, X):\n",
    "        return np.array([n.predict(X) for n in self._neurons])\n",
    "    \n",
    "    def fit(self, X, y, lr=0.01):\n",
    "        for neuron, yv in zip(self._neurons, y):\n",
    "            neuron.fit(X, yv, lr=lr)\n",
    "    \n",
    "    @property\n",
    "    def weights(self):\n",
    "        wts = np.array([n._weights for n in self._neurons])\n",
    "        biases = np.array([n._bias for n in self._neurons])\n",
    "        biases = biases.reshape((-1, 1))\n",
    "        return np.hstack([wts, biases])"
   ]
  },
  {
   "cell_type": "code",
   "execution_count": 126,
   "metadata": {},
   "outputs": [],
   "source": [
    "l = Layer(2, 4)"
   ]
  },
  {
   "cell_type": "code",
   "execution_count": 127,
   "metadata": {},
   "outputs": [
    {
     "data": {
      "text/plain": [
       "array([[0.00567237],\n",
       "       [0.02865928],\n",
       "       [0.01002749],\n",
       "       [0.01142142]])"
      ]
     },
     "execution_count": 127,
     "metadata": {},
     "output_type": "execute_result"
    }
   ],
   "source": [
    "l.predict(np.arange(2))"
   ]
  },
  {
   "cell_type": "code",
   "execution_count": 128,
   "metadata": {},
   "outputs": [
    {
     "name": "stdout",
     "output_type": "stream",
     "text": [
      "[[ 0.00579258  0.00398574  0.00168663]\n",
      " [ 0.0128448   0.01991593  0.00874334]\n",
      " [-0.00306464  0.00571358  0.00431391]\n",
      " [-0.02702576  0.01053737  0.00088405]]\n"
     ]
    }
   ],
   "source": [
    "print(l.weights)"
   ]
  },
  {
   "cell_type": "code",
   "execution_count": 129,
   "metadata": {},
   "outputs": [],
   "source": [
    "l.fit(np.arange(2), np.arange(4))"
   ]
  },
  {
   "cell_type": "code",
   "execution_count": 130,
   "metadata": {},
   "outputs": [
    {
     "name": "stdout",
     "output_type": "stream",
     "text": [
      "[[ 0.00579258  0.00392901  0.00162991]\n",
      " [ 0.0128448   0.02962934  0.01845675]\n",
      " [-0.00306464  0.0256133   0.02421364]\n",
      " [-0.02702576  0.04042315  0.03076983]]\n"
     ]
    }
   ],
   "source": [
    "print(l.weights)"
   ]
  },
  {
   "cell_type": "code",
   "execution_count": 131,
   "metadata": {},
   "outputs": [
    {
     "name": "stdout",
     "output_type": "stream",
     "text": [
      "[[ 0.00579258  0.00387342  0.00157432]\n",
      " [ 0.0128448   0.03914848  0.02797589]\n",
      " [-0.00306464  0.04511503  0.04371537]\n",
      " [-0.02702576  0.06971122  0.0600579 ]]\n"
     ]
    }
   ],
   "source": [
    "l.fit(np.arange(2), np.arange(4))\n",
    "print(l.weights)"
   ]
  },
  {
   "cell_type": "code",
   "execution_count": 132,
   "metadata": {},
   "outputs": [
    {
     "name": "stdout",
     "output_type": "stream",
     "text": [
      "[[ 5.79257762e-03  1.14955084e-03 -1.14955083e-03]\n",
      " [ 1.28448009e-02  5.05586294e-01  4.94413705e-01]\n",
      " [-3.06463732e-03  1.00069983e+00  9.99300166e-01]\n",
      " [-2.70257597e-02  1.50482666e+00  1.49517334e+00]]\n"
     ]
    }
   ],
   "source": [
    "for epoch in range(1000):\n",
    "    l.fit(np.arange(2), np.arange(4))\n",
    "print(l.weights)"
   ]
  },
  {
   "cell_type": "code",
   "execution_count": 133,
   "metadata": {},
   "outputs": [
    {
     "name": "stdout",
     "output_type": "stream",
     "text": [
      "[[ 5.79257762e-03  1.14955083e-03 -1.14955083e-03]\n",
      " [ 1.28448009e-02  5.05586295e-01  4.94413705e-01]\n",
      " [-3.06463732e-03  1.00069983e+00  9.99300168e-01]\n",
      " [-2.70257597e-02  1.50482666e+00  1.49517334e+00]]\n"
     ]
    }
   ],
   "source": [
    "for epoch in range(10000):\n",
    "    l.fit(np.arange(2), np.arange(4))\n",
    "print(l.weights)"
   ]
  },
  {
   "cell_type": "code",
   "execution_count": 134,
   "metadata": {},
   "outputs": [
    {
     "name": "stdout",
     "output_type": "stream",
     "text": [
      "[[ 5.79257762e-03  1.14955083e-03 -1.14955083e-03]\n",
      " [ 1.28448009e-02  5.05586295e-01  4.94413705e-01]\n",
      " [-3.06463732e-03  1.00069983e+00  9.99300168e-01]\n",
      " [-2.70257597e-02  1.50482666e+00  1.49517334e+00]]\n"
     ]
    }
   ],
   "source": [
    "for epoch in range(100000):\n",
    "    l.fit(np.arange(2), np.arange(4))\n",
    "print(l.weights)"
   ]
  },
  {
   "cell_type": "code",
   "execution_count": null,
   "metadata": {},
   "outputs": [],
   "source": []
  }
 ],
 "metadata": {
  "kernelspec": {
   "display_name": "Python [conda env:backprop]",
   "language": "python",
   "name": "conda-env-backprop-py"
  },
  "language_info": {
   "codemirror_mode": {
    "name": "ipython",
    "version": 3
   },
   "file_extension": ".py",
   "mimetype": "text/x-python",
   "name": "python",
   "nbconvert_exporter": "python",
   "pygments_lexer": "ipython3",
   "version": "3.6.7"
  }
 },
 "nbformat": 4,
 "nbformat_minor": 2
}
